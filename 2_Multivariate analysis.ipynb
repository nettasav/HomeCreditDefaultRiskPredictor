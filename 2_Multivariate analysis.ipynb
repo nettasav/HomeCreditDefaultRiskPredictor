{
 "cells": [
  {
   "cell_type": "markdown",
   "id": "bb79043f",
   "metadata": {},
   "source": [
    "# Multivariate analysis"
   ]
  },
  {
   "cell_type": "markdown",
   "id": "8d485440",
   "metadata": {},
   "source": [
    "Multivariate analysis serves as a powerful toolkit enabling us to derive deeper insights where multiple variables interact. By examining the relationships and patterns among several variables simultaneously, this approach enhances our understanding of the data and helps us find hidden connections, identifying underlying factors that drive observed trends, and making more informed decisions."
   ]
  },
  {
   "cell_type": "code",
   "execution_count": 1,
   "id": "11e0456c",
   "metadata": {},
   "outputs": [],
   "source": [
    "import numpy as np\n",
    "import pandas as pd\n",
    "pd.set_option('display.max_columns', None)\n",
    "pd.set_option('display.max_rows', None)\n",
    "import matplotlib.pyplot as plt\n",
    "%matplotlib inline\n",
    "import seaborn as sns\n",
    "import pyMechkar\n",
    "import sweetviz as sv\n",
    "#import pandas_profiling\n",
    "from ydata_profiling import ProfileReport\n",
    "from scipy.stats import chi2_contingency\n",
    "from matplotlib.backends.backend_pdf import PdfPages\n",
    "from scipy.stats import spearmanr\n",
    "import matplotlib.backends.backend_pdf\n"
   ]
  },
  {
   "cell_type": "markdown",
   "id": "5196138b",
   "metadata": {},
   "source": [
    "Read the data"
   ]
  },
  {
   "cell_type": "code",
   "execution_count": 2,
   "id": "ba8e2aef",
   "metadata": {},
   "outputs": [],
   "source": [
    "df = pd.read_csv('../sql/home_credit_train_ff.csv', index_col=0)"
   ]
  },
  {
   "cell_type": "markdown",
   "id": "0d9b32e4",
   "metadata": {},
   "source": [
    "As before, divide the feautes into numerical and categorical types"
   ]
  },
  {
   "cell_type": "code",
   "execution_count": 3,
   "id": "817ac550",
   "metadata": {},
   "outputs": [
    {
     "name": "stdout",
     "output_type": "stream",
     "text": [
      "string or categorical columns:\n",
      " ['TARGET', 'NAME_CONTRACT_TYPE', 'CODE_GENDER', 'FLAG_OWN_CAR', 'FLAG_OWN_REALTY', 'NAME_TYPE_SUITE', 'NAME_INCOME_TYPE', 'NAME_EDUCATION_TYPE', 'NAME_FAMILY_STATUS', 'NAME_HOUSING_TYPE', 'FLAG_MOBIL', 'FLAG_EMP_PHONE', 'FLAG_WORK_PHONE', 'FLAG_CONT_MOBILE', 'FLAG_PHONE', 'FLAG_EMAIL', 'OCCUPATION_TYPE', 'REGION_RATING_CLIENT', 'REGION_RATING_CLIENT_W_CITY', 'WEEKDAY_APPR_PROCESS_START', 'REG_REGION_NOT_LIVE_REGION', 'REG_REGION_NOT_WORK_REGION', 'LIVE_REGION_NOT_WORK_REGION', 'REG_CITY_NOT_LIVE_CITY', 'REG_CITY_NOT_WORK_CITY', 'LIVE_CITY_NOT_WORK_CITY', 'ORGANIZATION_TYPE', 'FONDKAPREMONT_MODE', 'HOUSETYPE_MODE', 'WALLSMATERIAL_MODE', 'EMERGENCYSTATE_MODE', 'FLAG_DOCUMENT_2', 'FLAG_DOCUMENT_3', 'FLAG_DOCUMENT_4', 'FLAG_DOCUMENT_5', 'FLAG_DOCUMENT_6', 'FLAG_DOCUMENT_7', 'FLAG_DOCUMENT_8', 'FLAG_DOCUMENT_9', 'FLAG_DOCUMENT_10', 'FLAG_DOCUMENT_11', 'FLAG_DOCUMENT_12', 'FLAG_DOCUMENT_13', 'FLAG_DOCUMENT_14', 'FLAG_DOCUMENT_15', 'FLAG_DOCUMENT_16', 'FLAG_DOCUMENT_17', 'FLAG_DOCUMENT_18', 'FLAG_DOCUMENT_19', 'FLAG_DOCUMENT_20', 'FLAG_DOCUMENT_21', 'AMT_REQ_CREDIT_BUREAU_HOUR', 'count_CREDIT_ACTIVE_Sold', 'count_CREDIT_ACTIVE_Bad_debt', 'count_CREDIT_CURRENCY_currency2', 'count_CREDIT_CURRENCY_currency3', 'count_CREDIT_CURRENCY_currency4', 'count_CREDIT_TYPE_Mortgage', 'count_CREDIT_TYPE_Loan_for_working_capital_replenishment', 'count_CREDIT_TYPE_Loan_for_business_development', 'count_CREDIT_TYPE_Real_estate_loan', 'count_CREDIT_TYPE_Unknown_type_of_loan', 'count_CREDIT_TYPE_Another_type_of_loan', 'count_CREDIT_TYPE_Cash_loan', 'count_CREDIT_TYPE_purchase_of_equipment', 'count_CREDIT_TYPE_Mobile_operator_loan', 'count_CREDIT_TYPE_Interbank_credit', 'count_CREDIT_TYPE_purchase_of_shares']\n",
      "--------------------------------------------------------------------------------------------------------------------\n",
      "numeric columns:\n",
      " ['CNT_CHILDREN', 'AMT_INCOME_TOTAL', 'AMT_CREDIT', 'AMT_ANNUITY', 'AMT_GOODS_PRICE', 'REGION_POPULATION_RELATIVE', 'DAYS_BIRTH', 'DAYS_EMPLOYED', 'DAYS_REGISTRATION', 'DAYS_ID_PUBLISH', 'OWN_CAR_AGE', 'CNT_FAM_MEMBERS', 'HOUR_APPR_PROCESS_START', 'EXT_SOURCE_1', 'EXT_SOURCE_2', 'EXT_SOURCE_3', 'APARTMENTS_AVG', 'BASEMENTAREA_AVG', 'YEARS_BEGINEXPLUATATION_AVG', 'YEARS_BUILD_AVG', 'COMMONAREA_AVG', 'ELEVATORS_AVG', 'ENTRANCES_AVG', 'FLOORSMAX_AVG', 'FLOORSMIN_AVG', 'LANDAREA_AVG', 'LIVINGAPARTMENTS_AVG', 'LIVINGAREA_AVG', 'NONLIVINGAPARTMENTS_AVG', 'NONLIVINGAREA_AVG', 'APARTMENTS_MODE', 'BASEMENTAREA_MODE', 'YEARS_BEGINEXPLUATATION_MODE', 'YEARS_BUILD_MODE', 'COMMONAREA_MODE', 'ELEVATORS_MODE', 'ENTRANCES_MODE', 'FLOORSMAX_MODE', 'FLOORSMIN_MODE', 'LANDAREA_MODE', 'LIVINGAPARTMENTS_MODE', 'LIVINGAREA_MODE', 'NONLIVINGAPARTMENTS_MODE', 'NONLIVINGAREA_MODE', 'APARTMENTS_MEDI', 'BASEMENTAREA_MEDI', 'YEARS_BEGINEXPLUATATION_MEDI', 'YEARS_BUILD_MEDI', 'COMMONAREA_MEDI', 'ELEVATORS_MEDI', 'ENTRANCES_MEDI', 'FLOORSMAX_MEDI', 'FLOORSMIN_MEDI', 'LANDAREA_MEDI', 'LIVINGAPARTMENTS_MEDI', 'LIVINGAREA_MEDI', 'NONLIVINGAPARTMENTS_MEDI', 'NONLIVINGAREA_MEDI', 'TOTALAREA_MODE', 'OBS_30_CNT_SOCIAL_CIRCLE', 'DEF_30_CNT_SOCIAL_CIRCLE', 'OBS_60_CNT_SOCIAL_CIRCLE', 'DEF_60_CNT_SOCIAL_CIRCLE', 'DAYS_LAST_PHONE_CHANGE', 'AMT_REQ_CREDIT_BUREAU_DAY', 'AMT_REQ_CREDIT_BUREAU_WEEK', 'AMT_REQ_CREDIT_BUREAU_MON', 'AMT_REQ_CREDIT_BUREAU_QRT', 'AMT_REQ_CREDIT_BUREAU_YEAR', 'count_CREDIT_ACTIVE_Closed', 'count_CREDIT_ACTIVE_Active', 'count_CREDIT_CURRENCY_currency1', 'max_DAYS_CREDIT', 'min_DAYS_CREDIT_ENDDATE_Active', 'max_DAYS_ENDDATE_FACT', 'max_AMT_CREDIT_MAX_OVERDUE', 'max_CNT_CREDIT_PROLONG', 'avg_AMT_CREDIT_SUM', 'avg_AMT_CREDIT_SUM_DEBT', 'avg_AMT_CREDIT_SUM_LIMIT', 'avg_AMT_CREDIT_SUM_OVERDUE', 'count_CREDIT_TYPE_Consumer_credit', 'count_CREDIT_TYPE_Creditc_card', 'count_CREDIT_TYPE_Car_loan', 'count_CREDIT_TYPE_Microloan', 'max_DAYS_CREDIT_UPDATE', 'count_MONTHS_BALANCE', 'avg_AMT_BALANCE', 'avg_AMT_CREDIT_LIMIT_ACTUAL', 'avg_AMT_DRAWINGS_ATM_CURRENT', 'avg_AMT_DRAWINGS_CURRENT', 'avg_AMT_DRAWINGS_OTHER_CURRENT', 'avg_AMT_DRAWINGS_POS_CURRENT', 'avg_AMT_INST_MIN_REGULARITY', 'avg_AMT_PAYMENT_CURRENT', 'avg_AMT_PAYMENT_TOTAL_CURRENT', 'avg_AMT_RECEIVABLE_PRINCIPAL', 'avg_AMT_RECIVABLE', 'avg_AMT_TOTAL_RECEIVABLE', 'sum_CNT_DRAWINGS_ATM_CURRENT', 'sum_CNT_DRAWINGS_CURRENT', 'sum_CNT_DRAWINGS_OTHER_CURRENT', 'sum_CNT_DRAWINGS_POS_CURRENT', 'max_num_days_of_payment_late', 'max_Unpaid_balance', 'num_of_installments_didnt_pay_all_amt', 'count_MONTHS_BALANCE.1', 'min_CNT_INSTALMENT', 'min_CNT_INSTALMENT_FUTURE', 'avg_SK_DPD', 'avg_SK_DPD_DEF', 'count_pa_SK_ID_PREV', 'count_NAME_CONTRACT_TYPE_Cash_loans', 'count_NAME_CONTRACT_TYPE_Consumer_loans', 'avg_AMT_APPLICATION', 'avg_AMT_CREDIT', 'avg_AMT_DOWN_PAYMENT', 'avg_AMT_GOODS_PRICE', 'avg_DAYS_DECISION', 'avg_RATE_DOWN_PAYMENT', 'count_NAME_CASH_LOAN_PURPOSE_XAP', 'count_NAME_CASH_LOAN_PURPOSE_XNA', 'count_NAME_CONTRACT_STATUS_Approved', 'count_NAME_CONTRACT_STATUS_Canceled', 'count_NAME_PAYMENT_TYPE_Cash_through_the_bank', 'count_NAME_PAYMENT_TYPE_XNA', 'count_CODE_REJECT_REASON_XAP', 'count_CODE_REJECT_REASON_HC', 'count_NAME_PORTFOLIO_POS', 'count_NAME_PORTFOLIO_Cash', 'count_NAME_YIELD_GROUP_XNA', 'count_NAME_YIELD_GROUP_middle', 'avg_NFLAG_INSURED_ON_APPROVAL', 'max_DAYS_TERMINATION', 'min_DAYS_TERMINATION']\n"
     ]
    }
   ],
   "source": [
    "cat_cols = []\n",
    "num_cols = []\n",
    "\n",
    "for col in df.columns:\n",
    "    if df[col].dtype == 'object' or pd.api.types.is_categorical_dtype(df[col]) or df[col].nunique() <= 8:\n",
    "        cat_cols.append(col)\n",
    "    else:\n",
    "        num_cols.append(col)\n",
    "\n",
    "print(f'string or categorical columns:\\n {cat_cols}')\n",
    "print('--------------------------------------------------------------------------------------------------------------------')\n",
    "print(f'numeric columns:\\n {num_cols}')\n"
   ]
  },
  {
   "cell_type": "markdown",
   "id": "b0a4177a",
   "metadata": {},
   "source": [
    "We will display the numerical columns in a scatter plots"
   ]
  },
  {
   "cell_type": "code",
   "execution_count": 4,
   "id": "516ca5fc",
   "metadata": {},
   "outputs": [
    {
     "name": "stdout",
     "output_type": "stream",
     "text": [
      "PDF files with plots created.\n"
     ]
    }
   ],
   "source": [
    "# Create a PDF file for each variable\n",
    "for variable in num_cols:\n",
    "    pdf_filename = f'{variable}_plots.pdf'\n",
    "    with PdfPages(pdf_filename) as pdf:\n",
    "        plt.figure(figsize=(6, 4))\n",
    "        for other_variable in num_cols:\n",
    "            if other_variable != variable:\n",
    "                plt.scatter(df[variable], df[other_variable], color='blue', alpha=0.7, rasterized=True)\n",
    "                plt.xlabel(variable)\n",
    "                plt.ylabel(other_variable)\n",
    "                plt.title(f'{variable} vs {other_variable}')\n",
    "                plt.grid(True)\n",
    "                pdf.savefig()  # Save the current figure to the PDF\n",
    "                plt.close()\n",
    "\n",
    "print(\"PDF files with plots created.\")\n"
   ]
  },
  {
   "cell_type": "markdown",
   "id": "08d13649",
   "metadata": {},
   "source": [
    "And the categorical columns using countplots"
   ]
  },
  {
   "cell_type": "code",
   "execution_count": 5,
   "id": "1da0300e",
   "metadata": {},
   "outputs": [
    {
     "name": "stdout",
     "output_type": "stream",
     "text": [
      "PDF files with plots created.\n"
     ]
    }
   ],
   "source": [
    "# Create a PDF file for each variable\n",
    "for variable in cat_cols:\n",
    "    pdf_filename = f'{variable}_plots.pdf'\n",
    "    with PdfPages(pdf_filename) as pdf:\n",
    "        plt.figure(figsize=(6, 4))\n",
    "        for other_variable in cat_cols:\n",
    "            if other_variable != variable:\n",
    "                #plt.scatter(df[variable], df[other_variable], color='blue', alpha=0.7, rasterized=True)\n",
    "                sns.countplot(data=df, x=variable, hue=other_variable, rasterized=True)\n",
    "                plt.xlabel(variable)\n",
    "                plt.ylabel('Count')\n",
    "                plt.title(f'{variable} vs {other_variable}')\n",
    "                plt.grid(True)\n",
    "                pdf.savefig()  # Save the current figure to the PDF\n",
    "                plt.legend(title=other_variable)\n",
    "                plt.xticks(rotation=45)\n",
    "                plt.close()\n",
    "\n",
    "print(\"PDF files with plots created.\")"
   ]
  },
  {
   "cell_type": "code",
   "execution_count": null,
   "id": "b80a2115",
   "metadata": {},
   "outputs": [],
   "source": [
    "pdf = PdfPages(r'countplot cat_cols vs target.pdf')\n",
    "\n",
    "for col in cat_cols:\n",
    "    if col != 'TARGET':\n",
    "        plt.figure(figsize=(4,3))\n",
    "        sns.countplot(data=df, x=col, hue='TARGET')\n",
    "        plt.xlabel(col)\n",
    "        plt.ylabel('Count')\n",
    "        plt.title('countplot - ' + col + ' ' + 'vs TARGET')\n",
    "        plt.legend(title='TARGET')\n",
    "        plt.xticks(rotation=45)\n",
    "        pdf.savefig(bbox_inches='tight', dpi=300)\n",
    "        plt.show()\n",
    "    \n",
    "pdf.close()"
   ]
  },
  {
   "cell_type": "markdown",
   "id": "ba71619f",
   "metadata": {},
   "source": [
    "conclusions from the plots that were created above will appear in the next notebook"
   ]
  }
 ],
 "metadata": {
  "kernelspec": {
   "display_name": "Python 3 (ipykernel)",
   "language": "python",
   "name": "python3"
  },
  "language_info": {
   "codemirror_mode": {
    "name": "ipython",
    "version": 3
   },
   "file_extension": ".py",
   "mimetype": "text/x-python",
   "name": "python",
   "nbconvert_exporter": "python",
   "pygments_lexer": "ipython3",
   "version": "3.9.17"
  }
 },
 "nbformat": 4,
 "nbformat_minor": 5
}
