{
 "cells": [
  {
   "cell_type": "markdown",
   "id": "e6c8800a",
   "metadata": {},
   "source": [
    "# Split and Data Balance"
   ]
  },
  {
   "cell_type": "code",
   "execution_count": 1,
   "id": "47fe1125",
   "metadata": {},
   "outputs": [],
   "source": [
    "import pandas as pd\n",
    "import numpy as np\n",
    "pd.set_option('display.max_rows', None) \n"
   ]
  },
  {
   "cell_type": "code",
   "execution_count": 2,
   "id": "30b59db9",
   "metadata": {},
   "outputs": [],
   "source": [
    "df = pd.read_csv('df_after_feature_engineering.csv', index_col=0)"
   ]
  },
  {
   "cell_type": "code",
   "execution_count": 2,
   "id": "9546b8cc",
   "metadata": {},
   "outputs": [],
   "source": [
    "#%store -r df1"
   ]
  },
  {
   "cell_type": "code",
   "execution_count": 3,
   "id": "55060199",
   "metadata": {},
   "outputs": [],
   "source": [
    "#df = df1"
   ]
  },
  {
   "cell_type": "code",
   "execution_count": 4,
   "id": "22b126fc",
   "metadata": {},
   "outputs": [
    {
     "data": {
      "text/html": [
       "<div>\n",
       "<style scoped>\n",
       "    .dataframe tbody tr th:only-of-type {\n",
       "        vertical-align: middle;\n",
       "    }\n",
       "\n",
       "    .dataframe tbody tr th {\n",
       "        vertical-align: top;\n",
       "    }\n",
       "\n",
       "    .dataframe thead th {\n",
       "        text-align: right;\n",
       "    }\n",
       "</style>\n",
       "<table border=\"1\" class=\"dataframe\">\n",
       "  <thead>\n",
       "    <tr style=\"text-align: right;\">\n",
       "      <th></th>\n",
       "      <th>FLAG_OWN_CAR</th>\n",
       "      <th>REGION_RATING_CLIENT_W_CITY</th>\n",
       "      <th>REG_CITY_NOT_LIVE_CITY</th>\n",
       "      <th>EXT_SOURCE_2</th>\n",
       "      <th>FLAG_DOCUMENT_3</th>\n",
       "      <th>ANNUITY_INCOME_RATIO</th>\n",
       "      <th>NAME_CONTRACT_TYPE_Revolving loans</th>\n",
       "      <th>CODE_GENDER_F</th>\n",
       "      <th>NAME_INCOME_TYPE_Unemployed</th>\n",
       "      <th>NAME_EDUCATION_TYPE_Academic degree</th>\n",
       "      <th>...</th>\n",
       "      <th>avg_AMT_DOWN_PAYMENT_iqr_Q2</th>\n",
       "      <th>ENTRANCES_MEDI_iqr_missing</th>\n",
       "      <th>EXT_SOURCE_1_iqr_Q1</th>\n",
       "      <th>EXT_SOURCE_1_iqr_Q3</th>\n",
       "      <th>EXT_SOURCE_1_iqr_missing</th>\n",
       "      <th>max_num_days_of_payment_late_iqr_Q2</th>\n",
       "      <th>COMMONAREA_AVG_iqr_missing</th>\n",
       "      <th>max_DAYS_ENDDATE_FACT_iqr_missing</th>\n",
       "      <th>OWN_CAR_AGE_iqr_Q3</th>\n",
       "      <th>TARGET</th>\n",
       "    </tr>\n",
       "    <tr>\n",
       "      <th>SK_ID_CURR</th>\n",
       "      <th></th>\n",
       "      <th></th>\n",
       "      <th></th>\n",
       "      <th></th>\n",
       "      <th></th>\n",
       "      <th></th>\n",
       "      <th></th>\n",
       "      <th></th>\n",
       "      <th></th>\n",
       "      <th></th>\n",
       "      <th></th>\n",
       "      <th></th>\n",
       "      <th></th>\n",
       "      <th></th>\n",
       "      <th></th>\n",
       "      <th></th>\n",
       "      <th></th>\n",
       "      <th></th>\n",
       "      <th></th>\n",
       "      <th></th>\n",
       "      <th></th>\n",
       "    </tr>\n",
       "  </thead>\n",
       "  <tbody>\n",
       "    <tr>\n",
       "      <th>100002</th>\n",
       "      <td>0.0</td>\n",
       "      <td>0.5</td>\n",
       "      <td>0.0</td>\n",
       "      <td>0.307542</td>\n",
       "      <td>1.0</td>\n",
       "      <td>0.544755</td>\n",
       "      <td>0</td>\n",
       "      <td>0</td>\n",
       "      <td>0</td>\n",
       "      <td>0</td>\n",
       "      <td>...</td>\n",
       "      <td>1</td>\n",
       "      <td>0</td>\n",
       "      <td>1</td>\n",
       "      <td>0</td>\n",
       "      <td>0</td>\n",
       "      <td>0</td>\n",
       "      <td>0</td>\n",
       "      <td>0</td>\n",
       "      <td>0</td>\n",
       "      <td>1.0</td>\n",
       "    </tr>\n",
       "    <tr>\n",
       "      <th>100003</th>\n",
       "      <td>0.0</td>\n",
       "      <td>0.0</td>\n",
       "      <td>0.0</td>\n",
       "      <td>0.727773</td>\n",
       "      <td>1.0</td>\n",
       "      <td>0.564986</td>\n",
       "      <td>0</td>\n",
       "      <td>1</td>\n",
       "      <td>0</td>\n",
       "      <td>0</td>\n",
       "      <td>...</td>\n",
       "      <td>1</td>\n",
       "      <td>0</td>\n",
       "      <td>1</td>\n",
       "      <td>0</td>\n",
       "      <td>0</td>\n",
       "      <td>1</td>\n",
       "      <td>0</td>\n",
       "      <td>0</td>\n",
       "      <td>0</td>\n",
       "      <td>0.0</td>\n",
       "    </tr>\n",
       "    <tr>\n",
       "      <th>100004</th>\n",
       "      <td>1.0</td>\n",
       "      <td>0.5</td>\n",
       "      <td>0.0</td>\n",
       "      <td>0.650190</td>\n",
       "      <td>0.0</td>\n",
       "      <td>0.476946</td>\n",
       "      <td>1</td>\n",
       "      <td>0</td>\n",
       "      <td>0</td>\n",
       "      <td>0</td>\n",
       "      <td>...</td>\n",
       "      <td>1</td>\n",
       "      <td>1</td>\n",
       "      <td>0</td>\n",
       "      <td>0</td>\n",
       "      <td>1</td>\n",
       "      <td>0</td>\n",
       "      <td>1</td>\n",
       "      <td>0</td>\n",
       "      <td>1</td>\n",
       "      <td>0.0</td>\n",
       "    </tr>\n",
       "    <tr>\n",
       "      <th>100006</th>\n",
       "      <td>0.0</td>\n",
       "      <td>0.5</td>\n",
       "      <td>0.0</td>\n",
       "      <td>0.760751</td>\n",
       "      <td>1.0</td>\n",
       "      <td>0.630256</td>\n",
       "      <td>0</td>\n",
       "      <td>1</td>\n",
       "      <td>0</td>\n",
       "      <td>0</td>\n",
       "      <td>...</td>\n",
       "      <td>0</td>\n",
       "      <td>1</td>\n",
       "      <td>0</td>\n",
       "      <td>0</td>\n",
       "      <td>1</td>\n",
       "      <td>1</td>\n",
       "      <td>1</td>\n",
       "      <td>1</td>\n",
       "      <td>0</td>\n",
       "      <td>0.0</td>\n",
       "    </tr>\n",
       "    <tr>\n",
       "      <th>100007</th>\n",
       "      <td>0.0</td>\n",
       "      <td>0.5</td>\n",
       "      <td>0.0</td>\n",
       "      <td>0.377472</td>\n",
       "      <td>0.0</td>\n",
       "      <td>0.594731</td>\n",
       "      <td>0</td>\n",
       "      <td>0</td>\n",
       "      <td>0</td>\n",
       "      <td>0</td>\n",
       "      <td>...</td>\n",
       "      <td>1</td>\n",
       "      <td>1</td>\n",
       "      <td>0</td>\n",
       "      <td>0</td>\n",
       "      <td>1</td>\n",
       "      <td>0</td>\n",
       "      <td>1</td>\n",
       "      <td>0</td>\n",
       "      <td>0</td>\n",
       "      <td>0.0</td>\n",
       "    </tr>\n",
       "  </tbody>\n",
       "</table>\n",
       "<p>5 rows × 39 columns</p>\n",
       "</div>"
      ],
      "text/plain": [
       "            FLAG_OWN_CAR  REGION_RATING_CLIENT_W_CITY  REG_CITY_NOT_LIVE_CITY  \\\n",
       "SK_ID_CURR                                                                      \n",
       "100002               0.0                          0.5                     0.0   \n",
       "100003               0.0                          0.0                     0.0   \n",
       "100004               1.0                          0.5                     0.0   \n",
       "100006               0.0                          0.5                     0.0   \n",
       "100007               0.0                          0.5                     0.0   \n",
       "\n",
       "            EXT_SOURCE_2  FLAG_DOCUMENT_3  ANNUITY_INCOME_RATIO  \\\n",
       "SK_ID_CURR                                                        \n",
       "100002          0.307542              1.0              0.544755   \n",
       "100003          0.727773              1.0              0.564986   \n",
       "100004          0.650190              0.0              0.476946   \n",
       "100006          0.760751              1.0              0.630256   \n",
       "100007          0.377472              0.0              0.594731   \n",
       "\n",
       "            NAME_CONTRACT_TYPE_Revolving loans  CODE_GENDER_F  \\\n",
       "SK_ID_CURR                                                      \n",
       "100002                                       0              0   \n",
       "100003                                       0              1   \n",
       "100004                                       1              0   \n",
       "100006                                       0              1   \n",
       "100007                                       0              0   \n",
       "\n",
       "            NAME_INCOME_TYPE_Unemployed  NAME_EDUCATION_TYPE_Academic degree  \\\n",
       "SK_ID_CURR                                                                     \n",
       "100002                                0                                    0   \n",
       "100003                                0                                    0   \n",
       "100004                                0                                    0   \n",
       "100006                                0                                    0   \n",
       "100007                                0                                    0   \n",
       "\n",
       "            ...  avg_AMT_DOWN_PAYMENT_iqr_Q2  ENTRANCES_MEDI_iqr_missing  \\\n",
       "SK_ID_CURR  ...                                                            \n",
       "100002      ...                            1                           0   \n",
       "100003      ...                            1                           0   \n",
       "100004      ...                            1                           1   \n",
       "100006      ...                            0                           1   \n",
       "100007      ...                            1                           1   \n",
       "\n",
       "            EXT_SOURCE_1_iqr_Q1  EXT_SOURCE_1_iqr_Q3  \\\n",
       "SK_ID_CURR                                             \n",
       "100002                        1                    0   \n",
       "100003                        1                    0   \n",
       "100004                        0                    0   \n",
       "100006                        0                    0   \n",
       "100007                        0                    0   \n",
       "\n",
       "            EXT_SOURCE_1_iqr_missing  max_num_days_of_payment_late_iqr_Q2  \\\n",
       "SK_ID_CURR                                                                  \n",
       "100002                             0                                    0   \n",
       "100003                             0                                    1   \n",
       "100004                             1                                    0   \n",
       "100006                             1                                    1   \n",
       "100007                             1                                    0   \n",
       "\n",
       "            COMMONAREA_AVG_iqr_missing  max_DAYS_ENDDATE_FACT_iqr_missing  \\\n",
       "SK_ID_CURR                                                                  \n",
       "100002                               0                                  0   \n",
       "100003                               0                                  0   \n",
       "100004                               1                                  0   \n",
       "100006                               1                                  1   \n",
       "100007                               1                                  0   \n",
       "\n",
       "            OWN_CAR_AGE_iqr_Q3  TARGET  \n",
       "SK_ID_CURR                              \n",
       "100002                       0     1.0  \n",
       "100003                       0     0.0  \n",
       "100004                       1     0.0  \n",
       "100006                       0     0.0  \n",
       "100007                       0     0.0  \n",
       "\n",
       "[5 rows x 39 columns]"
      ]
     },
     "execution_count": 4,
     "metadata": {},
     "output_type": "execute_result"
    }
   ],
   "source": [
    "df.head()"
   ]
  },
  {
   "cell_type": "code",
   "execution_count": 5,
   "id": "2c3ea611",
   "metadata": {},
   "outputs": [
    {
     "data": {
      "text/plain": [
       "(306531, 39)"
      ]
     },
     "execution_count": 5,
     "metadata": {},
     "output_type": "execute_result"
    }
   ],
   "source": [
    "df.shape"
   ]
  },
  {
   "cell_type": "code",
   "execution_count": 6,
   "id": "d5163dac",
   "metadata": {},
   "outputs": [
    {
     "name": "stdout",
     "output_type": "stream",
     "text": [
      "FLAG_OWN_CAR                                    float64\n",
      "REGION_RATING_CLIENT_W_CITY                     float64\n",
      "REG_CITY_NOT_LIVE_CITY                          float64\n",
      "EXT_SOURCE_2                                    float64\n",
      "FLAG_DOCUMENT_3                                 float64\n",
      "ANNUITY_INCOME_RATIO                            float64\n",
      "NAME_CONTRACT_TYPE_Revolving loans                int64\n",
      "CODE_GENDER_F                                     int64\n",
      "NAME_INCOME_TYPE_Unemployed                       int64\n",
      "NAME_EDUCATION_TYPE_Academic degree               int64\n",
      "NAME_EDUCATION_TYPE_Lower secondary               int64\n",
      "NAME_FAMILY_STATUS_Civil marriage                 int64\n",
      "count_NAME_PORTFOLIO_POS_0.0                      int64\n",
      "CNT_CHILDREN_CAT_Other                            int64\n",
      "count_CREDIT_CURRENCY_currency2_CAT_Other         int64\n",
      "count_CREDIT_TYPE_Car_loan_CAT_Other              int64\n",
      "avg_SK_DPD_DEF_CAT_Other                          int64\n",
      "avg_AMT_CREDIT_SUM_DEBT_iqr_Q1                    int64\n",
      "count_CREDIT_ACTIVE_Active_iqr_Q1                 int64\n",
      "count_CREDIT_ACTIVE_Active_iqr_Q2                 int64\n",
      "max_DAYS_CREDIT_iqr_Q2                            int64\n",
      "AMT_CREDIT_iqr_Q1                                 int64\n",
      "count_NAME_CASH_LOAN_PURPOSE_XAP_iqr_missing      int64\n",
      "avg_AMT_CREDIT_iqr_missing                        int64\n",
      "EXT_SOURCE_3_iqr_Q2                               int64\n",
      "YEARS_BUILD_MODE_iqr_missing                      int64\n",
      "DAYS_EMPLOYED_iqr_Q2                              int64\n",
      "max_DAYS_TERMINATION_iqr_Q2                       int64\n",
      "avg_DAYS_DECISION_iqr_Q2                          int64\n",
      "avg_AMT_DOWN_PAYMENT_iqr_Q2                       int64\n",
      "ENTRANCES_MEDI_iqr_missing                        int64\n",
      "EXT_SOURCE_1_iqr_Q1                               int64\n",
      "EXT_SOURCE_1_iqr_Q3                               int64\n",
      "EXT_SOURCE_1_iqr_missing                          int64\n",
      "max_num_days_of_payment_late_iqr_Q2               int64\n",
      "COMMONAREA_AVG_iqr_missing                        int64\n",
      "max_DAYS_ENDDATE_FACT_iqr_missing                 int64\n",
      "OWN_CAR_AGE_iqr_Q3                                int64\n",
      "TARGET                                          float64\n",
      "dtype: object\n"
     ]
    }
   ],
   "source": [
    "print(df.dtypes)"
   ]
  },
  {
   "cell_type": "code",
   "execution_count": 7,
   "id": "4c85bd34",
   "metadata": {},
   "outputs": [],
   "source": [
    "for column, data_type in df.dtypes.iteritems():\n",
    "    if data_type == 'category':\n",
    "        df[column] = df[column].astype(int)"
   ]
  },
  {
   "cell_type": "code",
   "execution_count": 8,
   "id": "e7358828",
   "metadata": {},
   "outputs": [
    {
     "name": "stdout",
     "output_type": "stream",
     "text": [
      "FLAG_OWN_CAR                                    float64\n",
      "REGION_RATING_CLIENT_W_CITY                     float64\n",
      "REG_CITY_NOT_LIVE_CITY                          float64\n",
      "EXT_SOURCE_2                                    float64\n",
      "FLAG_DOCUMENT_3                                 float64\n",
      "ANNUITY_INCOME_RATIO                            float64\n",
      "NAME_CONTRACT_TYPE_Revolving loans                int64\n",
      "CODE_GENDER_F                                     int64\n",
      "NAME_INCOME_TYPE_Unemployed                       int64\n",
      "NAME_EDUCATION_TYPE_Academic degree               int64\n",
      "NAME_EDUCATION_TYPE_Lower secondary               int64\n",
      "NAME_FAMILY_STATUS_Civil marriage                 int64\n",
      "count_NAME_PORTFOLIO_POS_0.0                      int64\n",
      "CNT_CHILDREN_CAT_Other                            int64\n",
      "count_CREDIT_CURRENCY_currency2_CAT_Other         int64\n",
      "count_CREDIT_TYPE_Car_loan_CAT_Other              int64\n",
      "avg_SK_DPD_DEF_CAT_Other                          int64\n",
      "avg_AMT_CREDIT_SUM_DEBT_iqr_Q1                    int64\n",
      "count_CREDIT_ACTIVE_Active_iqr_Q1                 int64\n",
      "count_CREDIT_ACTIVE_Active_iqr_Q2                 int64\n",
      "max_DAYS_CREDIT_iqr_Q2                            int64\n",
      "AMT_CREDIT_iqr_Q1                                 int64\n",
      "count_NAME_CASH_LOAN_PURPOSE_XAP_iqr_missing      int64\n",
      "avg_AMT_CREDIT_iqr_missing                        int64\n",
      "EXT_SOURCE_3_iqr_Q2                               int64\n",
      "YEARS_BUILD_MODE_iqr_missing                      int64\n",
      "DAYS_EMPLOYED_iqr_Q2                              int64\n",
      "max_DAYS_TERMINATION_iqr_Q2                       int64\n",
      "avg_DAYS_DECISION_iqr_Q2                          int64\n",
      "avg_AMT_DOWN_PAYMENT_iqr_Q2                       int64\n",
      "ENTRANCES_MEDI_iqr_missing                        int64\n",
      "EXT_SOURCE_1_iqr_Q1                               int64\n",
      "EXT_SOURCE_1_iqr_Q3                               int64\n",
      "EXT_SOURCE_1_iqr_missing                          int64\n",
      "max_num_days_of_payment_late_iqr_Q2               int64\n",
      "COMMONAREA_AVG_iqr_missing                        int64\n",
      "max_DAYS_ENDDATE_FACT_iqr_missing                 int64\n",
      "OWN_CAR_AGE_iqr_Q3                                int64\n",
      "TARGET                                          float64\n",
      "dtype: object\n"
     ]
    }
   ],
   "source": [
    "print(df.dtypes)"
   ]
  },
  {
   "cell_type": "code",
   "execution_count": 9,
   "id": "8744e2b4",
   "metadata": {},
   "outputs": [
    {
     "data": {
      "text/plain": [
       "(306531, 39)"
      ]
     },
     "execution_count": 9,
     "metadata": {},
     "output_type": "execute_result"
    }
   ],
   "source": [
    "df.shape"
   ]
  },
  {
   "cell_type": "markdown",
   "id": "c18d53b1",
   "metadata": {},
   "source": [
    "The primary evaluation metric for the model will be recall.\n",
    "Recall is vital in this context as it focuses on minimizing false negatives, ensuring that instances of payment difficulties are not overlooked. A missed instance of payment difficulty (false negative) could have more severe consequences than a false positive, making recall the ideal metric to prioritize in this loan prediction scenario."
   ]
  },
  {
   "cell_type": "markdown",
   "id": "41d15e11",
   "metadata": {},
   "source": [
    "# Split Data"
   ]
  },
  {
   "cell_type": "markdown",
   "id": "dc875e4a",
   "metadata": {},
   "source": [
    "split the dataset into three parts:\n",
    "\n",
    "Test Set (20%): This set remains untouched until the very end and helps handle the model's real-world performance.\n",
    "\n",
    "Validation Set (16%): A subset of the data used to fine-tune the model's parameters and prevent overfitting during development.\n",
    "\n",
    "Training Set (64%): The largest portion where the model learns patterns and features to make accurate predictions."
   ]
  },
  {
   "cell_type": "code",
   "execution_count": 9,
   "id": "4c6c104b",
   "metadata": {},
   "outputs": [
    {
     "data": {
      "text/html": [
       "<div>\n",
       "<style scoped>\n",
       "    .dataframe tbody tr th:only-of-type {\n",
       "        vertical-align: middle;\n",
       "    }\n",
       "\n",
       "    .dataframe tbody tr th {\n",
       "        vertical-align: top;\n",
       "    }\n",
       "\n",
       "    .dataframe thead th {\n",
       "        text-align: right;\n",
       "    }\n",
       "</style>\n",
       "<table border=\"1\" class=\"dataframe\">\n",
       "  <thead>\n",
       "    <tr style=\"text-align: right;\">\n",
       "      <th></th>\n",
       "      <th>FLAG_OWN_CAR</th>\n",
       "      <th>REGION_RATING_CLIENT_W_CITY</th>\n",
       "      <th>REG_CITY_NOT_LIVE_CITY</th>\n",
       "      <th>EXT_SOURCE_2</th>\n",
       "      <th>FLAG_DOCUMENT_3</th>\n",
       "      <th>ANNUITY_INCOME_RATIO</th>\n",
       "      <th>NAME_CONTRACT_TYPE_Revolving loans</th>\n",
       "      <th>CODE_GENDER_F</th>\n",
       "      <th>NAME_INCOME_TYPE_Unemployed</th>\n",
       "      <th>NAME_EDUCATION_TYPE_Academic degree</th>\n",
       "      <th>...</th>\n",
       "      <th>avg_DAYS_DECISION_iqr_Q2</th>\n",
       "      <th>avg_AMT_DOWN_PAYMENT_iqr_Q2</th>\n",
       "      <th>ENTRANCES_MEDI_iqr_missing</th>\n",
       "      <th>EXT_SOURCE_1_iqr_Q1</th>\n",
       "      <th>EXT_SOURCE_1_iqr_Q3</th>\n",
       "      <th>EXT_SOURCE_1_iqr_missing</th>\n",
       "      <th>max_num_days_of_payment_late_iqr_Q2</th>\n",
       "      <th>COMMONAREA_AVG_iqr_missing</th>\n",
       "      <th>max_DAYS_ENDDATE_FACT_iqr_missing</th>\n",
       "      <th>OWN_CAR_AGE_iqr_Q3</th>\n",
       "    </tr>\n",
       "    <tr>\n",
       "      <th>SK_ID_CURR</th>\n",
       "      <th></th>\n",
       "      <th></th>\n",
       "      <th></th>\n",
       "      <th></th>\n",
       "      <th></th>\n",
       "      <th></th>\n",
       "      <th></th>\n",
       "      <th></th>\n",
       "      <th></th>\n",
       "      <th></th>\n",
       "      <th></th>\n",
       "      <th></th>\n",
       "      <th></th>\n",
       "      <th></th>\n",
       "      <th></th>\n",
       "      <th></th>\n",
       "      <th></th>\n",
       "      <th></th>\n",
       "      <th></th>\n",
       "      <th></th>\n",
       "      <th></th>\n",
       "    </tr>\n",
       "  </thead>\n",
       "  <tbody>\n",
       "    <tr>\n",
       "      <th>100002</th>\n",
       "      <td>0.0</td>\n",
       "      <td>0.5</td>\n",
       "      <td>0.0</td>\n",
       "      <td>0.307542</td>\n",
       "      <td>1.0</td>\n",
       "      <td>0.544755</td>\n",
       "      <td>0</td>\n",
       "      <td>0</td>\n",
       "      <td>0</td>\n",
       "      <td>0</td>\n",
       "      <td>...</td>\n",
       "      <td>1</td>\n",
       "      <td>1</td>\n",
       "      <td>0</td>\n",
       "      <td>1</td>\n",
       "      <td>0</td>\n",
       "      <td>0</td>\n",
       "      <td>0</td>\n",
       "      <td>0</td>\n",
       "      <td>0</td>\n",
       "      <td>0</td>\n",
       "    </tr>\n",
       "    <tr>\n",
       "      <th>100003</th>\n",
       "      <td>0.0</td>\n",
       "      <td>0.0</td>\n",
       "      <td>0.0</td>\n",
       "      <td>0.727773</td>\n",
       "      <td>1.0</td>\n",
       "      <td>0.564986</td>\n",
       "      <td>0</td>\n",
       "      <td>1</td>\n",
       "      <td>0</td>\n",
       "      <td>0</td>\n",
       "      <td>...</td>\n",
       "      <td>0</td>\n",
       "      <td>1</td>\n",
       "      <td>0</td>\n",
       "      <td>1</td>\n",
       "      <td>0</td>\n",
       "      <td>0</td>\n",
       "      <td>1</td>\n",
       "      <td>0</td>\n",
       "      <td>0</td>\n",
       "      <td>0</td>\n",
       "    </tr>\n",
       "    <tr>\n",
       "      <th>100004</th>\n",
       "      <td>1.0</td>\n",
       "      <td>0.5</td>\n",
       "      <td>0.0</td>\n",
       "      <td>0.650190</td>\n",
       "      <td>0.0</td>\n",
       "      <td>0.476946</td>\n",
       "      <td>1</td>\n",
       "      <td>0</td>\n",
       "      <td>0</td>\n",
       "      <td>0</td>\n",
       "      <td>...</td>\n",
       "      <td>1</td>\n",
       "      <td>1</td>\n",
       "      <td>1</td>\n",
       "      <td>0</td>\n",
       "      <td>0</td>\n",
       "      <td>1</td>\n",
       "      <td>0</td>\n",
       "      <td>1</td>\n",
       "      <td>0</td>\n",
       "      <td>1</td>\n",
       "    </tr>\n",
       "    <tr>\n",
       "      <th>100006</th>\n",
       "      <td>0.0</td>\n",
       "      <td>0.5</td>\n",
       "      <td>0.0</td>\n",
       "      <td>0.760751</td>\n",
       "      <td>1.0</td>\n",
       "      <td>0.630256</td>\n",
       "      <td>0</td>\n",
       "      <td>1</td>\n",
       "      <td>0</td>\n",
       "      <td>0</td>\n",
       "      <td>...</td>\n",
       "      <td>0</td>\n",
       "      <td>0</td>\n",
       "      <td>1</td>\n",
       "      <td>0</td>\n",
       "      <td>0</td>\n",
       "      <td>1</td>\n",
       "      <td>1</td>\n",
       "      <td>1</td>\n",
       "      <td>1</td>\n",
       "      <td>0</td>\n",
       "    </tr>\n",
       "    <tr>\n",
       "      <th>100007</th>\n",
       "      <td>0.0</td>\n",
       "      <td>0.5</td>\n",
       "      <td>0.0</td>\n",
       "      <td>0.377472</td>\n",
       "      <td>0.0</td>\n",
       "      <td>0.594731</td>\n",
       "      <td>0</td>\n",
       "      <td>0</td>\n",
       "      <td>0</td>\n",
       "      <td>0</td>\n",
       "      <td>...</td>\n",
       "      <td>0</td>\n",
       "      <td>1</td>\n",
       "      <td>1</td>\n",
       "      <td>0</td>\n",
       "      <td>0</td>\n",
       "      <td>1</td>\n",
       "      <td>0</td>\n",
       "      <td>1</td>\n",
       "      <td>0</td>\n",
       "      <td>0</td>\n",
       "    </tr>\n",
       "  </tbody>\n",
       "</table>\n",
       "<p>5 rows × 38 columns</p>\n",
       "</div>"
      ],
      "text/plain": [
       "            FLAG_OWN_CAR  REGION_RATING_CLIENT_W_CITY  REG_CITY_NOT_LIVE_CITY  \\\n",
       "SK_ID_CURR                                                                      \n",
       "100002               0.0                          0.5                     0.0   \n",
       "100003               0.0                          0.0                     0.0   \n",
       "100004               1.0                          0.5                     0.0   \n",
       "100006               0.0                          0.5                     0.0   \n",
       "100007               0.0                          0.5                     0.0   \n",
       "\n",
       "            EXT_SOURCE_2  FLAG_DOCUMENT_3  ANNUITY_INCOME_RATIO  \\\n",
       "SK_ID_CURR                                                        \n",
       "100002          0.307542              1.0              0.544755   \n",
       "100003          0.727773              1.0              0.564986   \n",
       "100004          0.650190              0.0              0.476946   \n",
       "100006          0.760751              1.0              0.630256   \n",
       "100007          0.377472              0.0              0.594731   \n",
       "\n",
       "            NAME_CONTRACT_TYPE_Revolving loans  CODE_GENDER_F  \\\n",
       "SK_ID_CURR                                                      \n",
       "100002                                       0              0   \n",
       "100003                                       0              1   \n",
       "100004                                       1              0   \n",
       "100006                                       0              1   \n",
       "100007                                       0              0   \n",
       "\n",
       "            NAME_INCOME_TYPE_Unemployed  NAME_EDUCATION_TYPE_Academic degree  \\\n",
       "SK_ID_CURR                                                                     \n",
       "100002                                0                                    0   \n",
       "100003                                0                                    0   \n",
       "100004                                0                                    0   \n",
       "100006                                0                                    0   \n",
       "100007                                0                                    0   \n",
       "\n",
       "            ...  avg_DAYS_DECISION_iqr_Q2  avg_AMT_DOWN_PAYMENT_iqr_Q2  \\\n",
       "SK_ID_CURR  ...                                                          \n",
       "100002      ...                         1                            1   \n",
       "100003      ...                         0                            1   \n",
       "100004      ...                         1                            1   \n",
       "100006      ...                         0                            0   \n",
       "100007      ...                         0                            1   \n",
       "\n",
       "            ENTRANCES_MEDI_iqr_missing  EXT_SOURCE_1_iqr_Q1  \\\n",
       "SK_ID_CURR                                                    \n",
       "100002                               0                    1   \n",
       "100003                               0                    1   \n",
       "100004                               1                    0   \n",
       "100006                               1                    0   \n",
       "100007                               1                    0   \n",
       "\n",
       "            EXT_SOURCE_1_iqr_Q3  EXT_SOURCE_1_iqr_missing  \\\n",
       "SK_ID_CURR                                                  \n",
       "100002                        0                         0   \n",
       "100003                        0                         0   \n",
       "100004                        0                         1   \n",
       "100006                        0                         1   \n",
       "100007                        0                         1   \n",
       "\n",
       "            max_num_days_of_payment_late_iqr_Q2  COMMONAREA_AVG_iqr_missing  \\\n",
       "SK_ID_CURR                                                                    \n",
       "100002                                        0                           0   \n",
       "100003                                        1                           0   \n",
       "100004                                        0                           1   \n",
       "100006                                        1                           1   \n",
       "100007                                        0                           1   \n",
       "\n",
       "            max_DAYS_ENDDATE_FACT_iqr_missing  OWN_CAR_AGE_iqr_Q3  \n",
       "SK_ID_CURR                                                         \n",
       "100002                                      0                   0  \n",
       "100003                                      0                   0  \n",
       "100004                                      0                   1  \n",
       "100006                                      1                   0  \n",
       "100007                                      0                   0  \n",
       "\n",
       "[5 rows x 38 columns]"
      ]
     },
     "execution_count": 9,
     "metadata": {},
     "output_type": "execute_result"
    }
   ],
   "source": [
    "## remove unnecessary vars\n",
    "X = df.loc[:,df.columns!='TARGET']\n",
    "\n",
    "X.head()"
   ]
  },
  {
   "cell_type": "code",
   "execution_count": 10,
   "id": "e03822b1",
   "metadata": {},
   "outputs": [
    {
     "data": {
      "text/html": [
       "<div>\n",
       "<style scoped>\n",
       "    .dataframe tbody tr th:only-of-type {\n",
       "        vertical-align: middle;\n",
       "    }\n",
       "\n",
       "    .dataframe tbody tr th {\n",
       "        vertical-align: top;\n",
       "    }\n",
       "\n",
       "    .dataframe thead th {\n",
       "        text-align: right;\n",
       "    }\n",
       "</style>\n",
       "<table border=\"1\" class=\"dataframe\">\n",
       "  <thead>\n",
       "    <tr style=\"text-align: right;\">\n",
       "      <th></th>\n",
       "      <th>TARGET</th>\n",
       "    </tr>\n",
       "    <tr>\n",
       "      <th>SK_ID_CURR</th>\n",
       "      <th></th>\n",
       "    </tr>\n",
       "  </thead>\n",
       "  <tbody>\n",
       "    <tr>\n",
       "      <th>100002</th>\n",
       "      <td>1.0</td>\n",
       "    </tr>\n",
       "    <tr>\n",
       "      <th>100003</th>\n",
       "      <td>0.0</td>\n",
       "    </tr>\n",
       "    <tr>\n",
       "      <th>100004</th>\n",
       "      <td>0.0</td>\n",
       "    </tr>\n",
       "    <tr>\n",
       "      <th>100006</th>\n",
       "      <td>0.0</td>\n",
       "    </tr>\n",
       "    <tr>\n",
       "      <th>100007</th>\n",
       "      <td>0.0</td>\n",
       "    </tr>\n",
       "  </tbody>\n",
       "</table>\n",
       "</div>"
      ],
      "text/plain": [
       "            TARGET\n",
       "SK_ID_CURR        \n",
       "100002         1.0\n",
       "100003         0.0\n",
       "100004         0.0\n",
       "100006         0.0\n",
       "100007         0.0"
      ]
     },
     "execution_count": 10,
     "metadata": {},
     "output_type": "execute_result"
    }
   ],
   "source": [
    "y = df.loc[:,df.columns=='TARGET']\n",
    "y.head()"
   ]
  },
  {
   "cell_type": "code",
   "execution_count": 11,
   "id": "cc895cff",
   "metadata": {},
   "outputs": [],
   "source": [
    "from sklearn.model_selection import train_test_split\n",
    "\n",
    "#split to train and test -we won't use the test until the end\n",
    "X_train, X_test, y_train, y_test = train_test_split(X, y, test_size=0.2, random_state=42)\n",
    "\n",
    "\n",
    "#split to train and val \n",
    "X_train, X_val, y_train, y_val = train_test_split(X_train, y_train, test_size=0.2, random_state=42)\n",
    "\n"
   ]
  },
  {
   "cell_type": "code",
   "execution_count": 12,
   "id": "259cf310",
   "metadata": {},
   "outputs": [
    {
     "data": {
      "text/plain": [
       "(61307, 38)"
      ]
     },
     "execution_count": 12,
     "metadata": {},
     "output_type": "execute_result"
    }
   ],
   "source": [
    "X_test.shape"
   ]
  },
  {
   "cell_type": "code",
   "execution_count": 13,
   "id": "bab5c30f",
   "metadata": {},
   "outputs": [
    {
     "data": {
      "text/plain": [
       "(196179, 38)"
      ]
     },
     "execution_count": 13,
     "metadata": {},
     "output_type": "execute_result"
    }
   ],
   "source": [
    "X_train.shape"
   ]
  },
  {
   "cell_type": "code",
   "execution_count": 14,
   "id": "5236b696",
   "metadata": {},
   "outputs": [
    {
     "data": {
      "text/plain": [
       "(49045, 38)"
      ]
     },
     "execution_count": 14,
     "metadata": {},
     "output_type": "execute_result"
    }
   ],
   "source": [
    "X_val.shape"
   ]
  },
  {
   "cell_type": "code",
   "execution_count": 15,
   "id": "90624d35",
   "metadata": {},
   "outputs": [
    {
     "data": {
      "text/plain": [
       "(61307, 1)"
      ]
     },
     "execution_count": 15,
     "metadata": {},
     "output_type": "execute_result"
    }
   ],
   "source": [
    "y_test.shape"
   ]
  },
  {
   "cell_type": "code",
   "execution_count": 16,
   "id": "c377ef5f",
   "metadata": {},
   "outputs": [
    {
     "data": {
      "text/plain": [
       "(196179, 1)"
      ]
     },
     "execution_count": 16,
     "metadata": {},
     "output_type": "execute_result"
    }
   ],
   "source": [
    "y_train.shape"
   ]
  },
  {
   "cell_type": "code",
   "execution_count": 17,
   "id": "e056f486",
   "metadata": {},
   "outputs": [
    {
     "data": {
      "text/plain": [
       "(49045, 1)"
      ]
     },
     "execution_count": 17,
     "metadata": {},
     "output_type": "execute_result"
    }
   ],
   "source": [
    "y_val.shape"
   ]
  },
  {
   "cell_type": "code",
   "execution_count": 18,
   "id": "c02cb5c8",
   "metadata": {},
   "outputs": [
    {
     "data": {
      "text/plain": [
       "TARGET\n",
       "0.0       56373\n",
       "1.0        4934\n",
       "dtype: int64"
      ]
     },
     "execution_count": 18,
     "metadata": {},
     "output_type": "execute_result"
    }
   ],
   "source": [
    "y_test.value_counts()"
   ]
  },
  {
   "cell_type": "code",
   "execution_count": 19,
   "id": "d6b19d73",
   "metadata": {},
   "outputs": [
    {
     "data": {
      "text/plain": [
       "TARGET\n",
       "0.0       180321\n",
       "1.0        15858\n",
       "dtype: int64"
      ]
     },
     "execution_count": 19,
     "metadata": {},
     "output_type": "execute_result"
    }
   ],
   "source": [
    "y_train.value_counts()"
   ]
  },
  {
   "cell_type": "code",
   "execution_count": 20,
   "id": "7af17c39",
   "metadata": {},
   "outputs": [
    {
     "data": {
      "text/plain": [
       "TARGET\n",
       "0.0       45110\n",
       "1.0        3935\n",
       "dtype: int64"
      ]
     },
     "execution_count": 20,
     "metadata": {},
     "output_type": "execute_result"
    }
   ],
   "source": [
    "y_val.value_counts()"
   ]
  },
  {
   "cell_type": "markdown",
   "id": "ba8b7697",
   "metadata": {},
   "source": [
    "# Imbalance Data "
   ]
  },
  {
   "cell_type": "markdown",
   "id": "724c4f69",
   "metadata": {},
   "source": [
    "we're addressing class imbalance in a classification dataset using the imblearn library. \n",
    "\n",
    "The goal is to balance the distribution of data to improve model performance. \n",
    "\n",
    "Each function takes input data (X) and labels (y) and returns balanced samples.\n",
    "These techniques aim to equip the model with more equitable data for accurate classification, mitigating class imbalance issues"
   ]
  },
  {
   "cell_type": "code",
   "execution_count": 24,
   "id": "8c6dfa45",
   "metadata": {},
   "outputs": [],
   "source": [
    "# !pip install imbalanced-learn"
   ]
  },
  {
   "cell_type": "code",
   "execution_count": 21,
   "id": "4c8f9c2a",
   "metadata": {},
   "outputs": [],
   "source": [
    "from imblearn.under_sampling import RandomUnderSampler\n",
    "from imblearn.over_sampling import RandomOverSampler\n",
    "from imblearn.combine import SMOTEENN # Combination of SMOTE and Edited Nearest Neighbors\n",
    "from imblearn.over_sampling import SMOTE\n",
    "\n",
    "def perform_under_sampling(X, y, random_state=None):\n",
    "    under_sampler = RandomUnderSampler( random_state=random_state)\n",
    "    X_resampled, y_resampled = under_sampler.fit_resample(X, y)\n",
    "    return X_resampled, y_resampled\n",
    "\n",
    "def perform_over_sampling(X, y, random_state=None):\n",
    "    over_sampler = RandomOverSampler( random_state=random_state)\n",
    "    X_resampled, y_resampled = over_sampler.fit_resample(X, y)\n",
    "    return X_resampled, y_resampled\n",
    "\n",
    "def perform_overunder_sampling(X, y, random_state=None):\n",
    "    combined_sampler = SMOTEENN( random_state=random_state)\n",
    "    X_resampled, y_resampled = combined_sampler.fit_resample(X, y)\n",
    "    return X_resampled, y_resampled\n",
    "\n",
    "def perform_SMOTE_sampling(X, y, random_state=None):\n",
    "    combined_sampler = SMOTE(random_state=random_state)\n",
    "    X_resampled, y_resampled = combined_sampler.fit_resample(X, y)\n",
    "    return X_resampled, y_resampled\n"
   ]
  },
  {
   "cell_type": "code",
   "execution_count": 22,
   "id": "b4db6c11",
   "metadata": {},
   "outputs": [],
   "source": [
    "X = X_train\n",
    "y = y_train\n",
    "\n",
    "# Under-sampling\n",
    "X_under, y_under = perform_under_sampling(X, y, random_state=42)\n",
    "\n",
    "# Over-sampling\n",
    "X_over, y_over = perform_over_sampling(X, y,  random_state=42)\n",
    "\n",
    "# Combined SMOTE-sampling\n",
    "X_overunder, y_overunder = perform_overunder_sampling(X, y, random_state=42)\n",
    "\n",
    "# Combined SMOTE-sampling\n",
    "X_SMOTE, y_SMOTE = perform_SMOTE_sampling(X, y, random_state=42)\n"
   ]
  },
  {
   "cell_type": "code",
   "execution_count": 24,
   "id": "67f74511",
   "metadata": {},
   "outputs": [
    {
     "data": {
      "text/plain": [
       "(31716, 38)"
      ]
     },
     "execution_count": 24,
     "metadata": {},
     "output_type": "execute_result"
    }
   ],
   "source": [
    "X_under.shape"
   ]
  },
  {
   "cell_type": "code",
   "execution_count": 23,
   "id": "a22d9bac",
   "metadata": {},
   "outputs": [
    {
     "data": {
      "text/plain": [
       "(360642, 38)"
      ]
     },
     "execution_count": 23,
     "metadata": {},
     "output_type": "execute_result"
    }
   ],
   "source": [
    "X_over.shape"
   ]
  },
  {
   "cell_type": "code",
   "execution_count": 26,
   "id": "fdbaa15f",
   "metadata": {},
   "outputs": [
    {
     "data": {
      "text/plain": [
       "(285604, 38)"
      ]
     },
     "execution_count": 26,
     "metadata": {},
     "output_type": "execute_result"
    }
   ],
   "source": [
    "X_overunder.shape"
   ]
  },
  {
   "cell_type": "code",
   "execution_count": 27,
   "id": "6dfcac99",
   "metadata": {},
   "outputs": [
    {
     "data": {
      "text/plain": [
       "(360642, 38)"
      ]
     },
     "execution_count": 27,
     "metadata": {},
     "output_type": "execute_result"
    }
   ],
   "source": [
    "X_SMOTE.shape"
   ]
  },
  {
   "cell_type": "markdown",
   "id": "ec92cc99",
   "metadata": {},
   "source": [
    "we choose random forest and RECALL and see which dataset is the best"
   ]
  },
  {
   "cell_type": "code",
   "execution_count": 28,
   "id": "d98881eb",
   "metadata": {},
   "outputs": [
    {
     "name": "stderr",
     "output_type": "stream",
     "text": [
      "C:\\Users\\netta\\anaconda3\\lib\\site-packages\\sklearn\\base.py:1151: DataConversionWarning: A column-vector y was passed when a 1d array was expected. Please change the shape of y to (n_samples,), for example using ravel().\n",
      "  return fit_method(estimator, *args, **kwargs)\n"
     ]
    },
    {
     "name": "stdout",
     "output_type": "stream",
     "text": [
      "overall_val_recall: 0.9188908145580589\n",
      "overall_train_recall: 0.9999694156866943\n",
      "ratio val/ train: 0.918918919062182\n"
     ]
    }
   ],
   "source": [
    "from sklearn.model_selection import train_test_split\n",
    "from sklearn.ensemble import RandomForestClassifier\n",
    "from sklearn.metrics import recall_score\n",
    "\n",
    "\n",
    "# Create a Random Forest classifier\n",
    "rf_classifier = RandomForestClassifier(n_estimators=100, random_state=42)\n",
    "\n",
    "# Train the classifier on the training data\n",
    "rf_classifier.fit(X_train, y_train)\n",
    "\n",
    "# Make predictions on the validation data\n",
    "y_val_pred = rf_classifier.predict(X_val)\n",
    "y_train_pred = rf_classifier.predict(X_train)\n",
    "\n",
    "# Calculate overall recall\n",
    "overall_val_recall = recall_score(y_val, y_val_pred, average='weighted')\n",
    "overall_train_recall = recall_score(y_train, y_train_pred, average='weighted')\n",
    "print(\"overall_val_recall:\", overall_val_recall)\n",
    "print(\"overall_train_recall:\", overall_train_recall)\n",
    "\n",
    "ratio_rf = overall_val_recall/ overall_train_recall\n",
    "print(\"ratio val/ train:\", ratio_rf)"
   ]
  },
  {
   "cell_type": "code",
   "execution_count": 29,
   "id": "e74454da",
   "metadata": {},
   "outputs": [
    {
     "name": "stderr",
     "output_type": "stream",
     "text": [
      "C:\\Users\\netta\\anaconda3\\lib\\site-packages\\sklearn\\base.py:1151: DataConversionWarning: A column-vector y was passed when a 1d array was expected. Please change the shape of y to (n_samples,), for example using ravel().\n",
      "  return fit_method(estimator, *args, **kwargs)\n"
     ]
    },
    {
     "name": "stdout",
     "output_type": "stream",
     "text": [
      "overall_val_recall: 0.6495667244367418\n",
      "overall_train_recall: 1.0\n",
      "ratio val/ train: 0.6495667244367418\n"
     ]
    }
   ],
   "source": [
    "from sklearn.model_selection import train_test_split\n",
    "from sklearn.ensemble import RandomForestClassifier\n",
    "from sklearn.metrics import recall_score\n",
    "\n",
    "\n",
    "# Create a Random Forest classifier\n",
    "rf_classifier = RandomForestClassifier(n_estimators=100, random_state=42)\n",
    "\n",
    "# Train the classifier on the training data\n",
    "rf_classifier.fit(X_under, y_under)\n",
    "\n",
    "# Make predictions on the validation data\n",
    "y_val_pred = rf_classifier.predict(X_val)\n",
    "y_train_pred = rf_classifier.predict(X_under)\n",
    "\n",
    "# Calculate overall recall\n",
    "overall_val_recall = recall_score(y_val, y_val_pred, average='weighted')\n",
    "overall_train_recall = recall_score(y_under, y_train_pred, average='weighted')\n",
    "print(\"overall_val_recall:\", overall_val_recall)\n",
    "print(\"overall_train_recall:\", overall_train_recall)\n",
    "\n",
    "ratio_rf = overall_val_recall/ overall_train_recall\n",
    "print(\"ratio val/ train:\", ratio_rf)"
   ]
  },
  {
   "cell_type": "code",
   "execution_count": 30,
   "id": "78474174",
   "metadata": {},
   "outputs": [
    {
     "name": "stderr",
     "output_type": "stream",
     "text": [
      "C:\\Users\\netta\\anaconda3\\lib\\site-packages\\sklearn\\base.py:1151: DataConversionWarning: A column-vector y was passed when a 1d array was expected. Please change the shape of y to (n_samples,), for example using ravel().\n",
      "  return fit_method(estimator, *args, **kwargs)\n"
     ]
    },
    {
     "name": "stdout",
     "output_type": "stream",
     "text": [
      "overall_val_recall: 0.9149556529717606\n",
      "overall_train_recall: 1.0\n",
      "ratio val/ train: 0.9149556529717606\n"
     ]
    }
   ],
   "source": [
    "from sklearn.model_selection import train_test_split\n",
    "from sklearn.ensemble import RandomForestClassifier\n",
    "from sklearn.metrics import recall_score\n",
    "\n",
    "\n",
    "# Create a Random Forest classifier\n",
    "rf_classifier = RandomForestClassifier(n_estimators=100, random_state=42)\n",
    "\n",
    "# Train the classifier on the training data\n",
    "rf_classifier.fit(X_over, y_over)\n",
    "\n",
    "# Make predictions on the validation data\n",
    "y_val_pred = rf_classifier.predict(X_val)\n",
    "y_train_pred = rf_classifier.predict(X_over)\n",
    "\n",
    "# Calculate overall recall\n",
    "overall_val_recall = recall_score(y_val, y_val_pred, average='weighted')\n",
    "overall_train_recall = recall_score(y_over, y_train_pred, average='weighted')\n",
    "print(\"overall_val_recall:\", overall_val_recall)\n",
    "print(\"overall_train_recall:\", overall_train_recall)\n",
    "\n",
    "ratio_rf = overall_val_recall/ overall_train_recall\n",
    "print(\"ratio val/ train:\", ratio_rf)"
   ]
  },
  {
   "cell_type": "code",
   "execution_count": 31,
   "id": "aa17ce0a",
   "metadata": {},
   "outputs": [
    {
     "name": "stderr",
     "output_type": "stream",
     "text": [
      "C:\\Users\\netta\\anaconda3\\lib\\site-packages\\sklearn\\base.py:1151: DataConversionWarning: A column-vector y was passed when a 1d array was expected. Please change the shape of y to (n_samples,), for example using ravel().\n",
      "  return fit_method(estimator, *args, **kwargs)\n"
     ]
    },
    {
     "name": "stdout",
     "output_type": "stream",
     "text": [
      "overall_val_recall: 0.8065450096849832\n",
      "overall_train_recall: 1.0\n",
      "ratio val/ train: 0.8065450096849832\n"
     ]
    }
   ],
   "source": [
    "from sklearn.model_selection import train_test_split\n",
    "from sklearn.ensemble import RandomForestClassifier\n",
    "from sklearn.metrics import recall_score\n",
    "\n",
    "\n",
    "\n",
    "# Create a Random Forest classifier\n",
    "rf_classifier = RandomForestClassifier(n_estimators=100, random_state=42)\n",
    "\n",
    "# Train the classifier on the training data\n",
    "rf_classifier.fit(X_overunder, y_overunder)\n",
    "\n",
    "# Make predictions on the validation data\n",
    "y_val_pred = rf_classifier.predict(X_val)\n",
    "y_train_pred = rf_classifier.predict(X_overunder)\n",
    "\n",
    "# Calculate overall recall\n",
    "overall_val_recall = recall_score(y_val, y_val_pred, average='weighted')\n",
    "overall_train_recall = recall_score(y_overunder, y_train_pred, average='weighted')\n",
    "print(\"overall_val_recall:\", overall_val_recall)\n",
    "print(\"overall_train_recall:\", overall_train_recall)\n",
    "\n",
    "ratio_rf = overall_val_recall/ overall_train_recall\n",
    "print(\"ratio val/ train:\", ratio_rf)\n"
   ]
  },
  {
   "cell_type": "code",
   "execution_count": 32,
   "id": "8570c719",
   "metadata": {},
   "outputs": [
    {
     "name": "stderr",
     "output_type": "stream",
     "text": [
      "C:\\Users\\netta\\anaconda3\\lib\\site-packages\\sklearn\\base.py:1151: DataConversionWarning: A column-vector y was passed when a 1d array was expected. Please change the shape of y to (n_samples,), for example using ravel().\n",
      "  return fit_method(estimator, *args, **kwargs)\n"
     ]
    },
    {
     "name": "stdout",
     "output_type": "stream",
     "text": [
      "overall_val_recall: 0.8586808033438679\n",
      "overall_train_recall: 0.9999972271671076\n",
      "ratio val/ train: 0.8586831843288455\n"
     ]
    }
   ],
   "source": [
    "from sklearn.model_selection import train_test_split\n",
    "from sklearn.ensemble import RandomForestClassifier\n",
    "from sklearn.metrics import recall_score\n",
    "\n",
    "\n",
    "\n",
    "# Create a Random Forest classifier\n",
    "rf_classifier = RandomForestClassifier(n_estimators=100, random_state=42)\n",
    "\n",
    "# Train the classifier on the training data\n",
    "rf_classifier.fit(X_SMOTE, y_SMOTE)\n",
    "\n",
    "\n",
    "# Make predictions on the validation data\n",
    "y_val_pred = rf_classifier.predict(X_val)\n",
    "y_train_pred = rf_classifier.predict(X_SMOTE)\n",
    "\n",
    "# Calculate overall recall\n",
    "overall_val_recall = recall_score(y_val, y_val_pred, average='weighted')\n",
    "overall_train_recall = recall_score(y_SMOTE, y_train_pred, average='weighted')\n",
    "print(\"overall_val_recall:\", overall_val_recall)\n",
    "print(\"overall_train_recall:\", overall_train_recall)\n",
    "\n",
    "ratio_rf = overall_val_recall/ overall_train_recall\n",
    "print(\"ratio val/ train:\", ratio_rf)"
   ]
  },
  {
   "cell_type": "markdown",
   "id": "99310c6e",
   "metadata": {},
   "source": [
    "Selecting the model with the highest ratio of validation recall to training recall that isn't overfitting. This approach involves comparing how well the model performs on the validation data relative to the training data and choosing the one that strikes the best balance between generalization and overfitting."
   ]
  },
  {
   "cell_type": "code",
   "execution_count": 24,
   "id": "525985b7",
   "metadata": {},
   "outputs": [],
   "source": [
    "X_train = X_over\n",
    "y_train = y_over"
   ]
  },
  {
   "cell_type": "code",
   "execution_count": 25,
   "id": "365fe94f",
   "metadata": {
    "scrolled": true
   },
   "outputs": [
    {
     "name": "stdout",
     "output_type": "stream",
     "text": [
      "Stored 'X_train' (DataFrame)\n",
      "Stored 'y_train' (DataFrame)\n",
      "Stored 'X_test' (DataFrame)\n",
      "Stored 'y_test' (DataFrame)\n",
      "Stored 'X_val' (DataFrame)\n",
      "Stored 'y_val' (DataFrame)\n"
     ]
    }
   ],
   "source": [
    "%store X_train\n",
    "%store y_train\n",
    "\n",
    "%store X_test\n",
    "%store y_test\n",
    "\n",
    "%store X_val\n",
    "%store y_val"
   ]
  },
  {
   "cell_type": "code",
   "execution_count": 38,
   "id": "03948495",
   "metadata": {},
   "outputs": [],
   "source": [
    "X_train.to_csv('X_train.csv', index=True)"
   ]
  },
  {
   "cell_type": "code",
   "execution_count": null,
   "id": "8ee8f358",
   "metadata": {},
   "outputs": [],
   "source": [
    "y_train.to_csv('y_train.csv', index=False)"
   ]
  },
  {
   "cell_type": "code",
   "execution_count": 43,
   "id": "31d2662b",
   "metadata": {},
   "outputs": [],
   "source": [
    "X_test.to_csv('X_test.csv', index=True)"
   ]
  },
  {
   "cell_type": "code",
   "execution_count": null,
   "id": "fb422ac3",
   "metadata": {},
   "outputs": [],
   "source": [
    "y_test.to_csv('y_test.csv', index=False)"
   ]
  },
  {
   "cell_type": "code",
   "execution_count": 45,
   "id": "ff55b6d0",
   "metadata": {},
   "outputs": [],
   "source": [
    "X_val.to_csv('X_val.csv', index=True)"
   ]
  },
  {
   "cell_type": "code",
   "execution_count": null,
   "id": "838a5197",
   "metadata": {},
   "outputs": [],
   "source": [
    "y_val.to_csv('y_val.csv', index=False)"
   ]
  }
 ],
 "metadata": {
  "kernelspec": {
   "display_name": "Python 3 (ipykernel)",
   "language": "python",
   "name": "python3"
  },
  "language_info": {
   "codemirror_mode": {
    "name": "ipython",
    "version": 3
   },
   "file_extension": ".py",
   "mimetype": "text/x-python",
   "name": "python",
   "nbconvert_exporter": "python",
   "pygments_lexer": "ipython3",
   "version": "3.9.17"
  }
 },
 "nbformat": 4,
 "nbformat_minor": 5
}
